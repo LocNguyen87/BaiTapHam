{
 "cells": [
  {
   "cell_type": "code",
   "execution_count": 86,
   "id": "ac652716",
   "metadata": {},
   "outputs": [
    {
     "name": "stdout",
     "output_type": "stream",
     "text": [
      "                              *                              \n",
      "                             ***                             \n",
      "                            *****                            \n",
      "                           *******                           \n",
      "                          *********                          \n",
      "                         ***********                         \n",
      "                        *************                        \n",
      "                       ***************                       \n",
      "                      *****************                      \n",
      "                     *******************                     \n",
      "                    *********************                    \n",
      "                   ***********************                   \n",
      "                  *************************                  \n",
      "                 ***************************                 \n",
      "                *****************************                \n",
      "                 ***************************                 \n",
      "                  *************************                  \n",
      "                   ***********************                   \n",
      "                    *********************                    \n",
      "                     *******************                     \n",
      "                      *****************                      \n",
      "                       ***************                       \n",
      "                        *************                        \n",
      "                         ***********                         \n",
      "                          *********                          \n",
      "                           *******                           \n",
      "                            *****                            \n",
      "                             ***                             \n",
      "                              *                              \n"
     ]
    }
   ],
   "source": [
    "# num = int(input('Nhập số:'))\n",
    "num = 30\n",
    "\n",
    "def tao_day_so(num):\n",
    "    '''\n",
    "    Hàm tạo dãy số để vẽ hình thoi\n",
    "    Parameter:\n",
    "    - num(int) Số nhập vào\n",
    "    Return:\n",
    "    - result(list): Dãy số lẻ tăng dần từ 1 đến giá trị nhập vào sau đó giảm dần về 1\n",
    "    '''\n",
    "    result = []\n",
    "    for n in range(1, num+1, 1):\n",
    "        if n%2 != 0: result.append(n)\n",
    "    so_giam = sorted(result[:-1], reverse=True)\n",
    "    result.extend(so_giam)\n",
    "    return result\n",
    "\n",
    "day_so = tao_day_so(num)\n",
    "for l in day_so:\n",
    "    space = num-int((l-1)/2)\n",
    "    print(space*\" \" + l*\"*\" + space*\" \")"
   ]
  },
  {
   "cell_type": "code",
   "execution_count": null,
   "id": "084a7fe0",
   "metadata": {},
   "outputs": [],
   "source": []
  },
  {
   "cell_type": "code",
   "execution_count": null,
   "id": "2d43afbd",
   "metadata": {},
   "outputs": [],
   "source": []
  }
 ],
 "metadata": {
  "kernelspec": {
   "display_name": "Python 3 (ipykernel)",
   "language": "python",
   "name": "python3"
  },
  "language_info": {
   "codemirror_mode": {
    "name": "ipython",
    "version": 3
   },
   "file_extension": ".py",
   "mimetype": "text/x-python",
   "name": "python",
   "nbconvert_exporter": "python",
   "pygments_lexer": "ipython3",
   "version": "3.9.12"
  }
 },
 "nbformat": 4,
 "nbformat_minor": 5
}
