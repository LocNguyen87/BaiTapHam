{
 "cells": [
  {
   "cell_type": "code",
   "execution_count": 24,
   "id": "baa2b8b5",
   "metadata": {},
   "outputs": [
    {
     "name": "stdout",
     "output_type": "stream",
     "text": [
      "['0', '95431', '3', '42', '4', '74310', '3', '5']\n",
      "['0', '95431', '74310']\n"
     ]
    }
   ],
   "source": [
    "# text = input('Nhập chuỗi số:')\n",
    "text = '09543134247431035'\n",
    "def tim_so(txt):\n",
    "    '''\n",
    "    Hàm tìm chuỗi số giảm dần dài nhất\n",
    "    Parameter: txt(string)\n",
    "    Return: result(list)\n",
    "    '''\n",
    "    result_string = ''\n",
    "    i = 0\n",
    "    while i < len(text):\n",
    "        result_string += text[i]\n",
    "        if i < len(text)-1:\n",
    "            if int(text[i+1]) > int(text[i]): result_string += ' '\n",
    "        i+=1\n",
    "    all_result = result_string.split()\n",
    "    result_list = []\n",
    "    max_length = 0\n",
    "    for list_item in all_result:\n",
    "        if len(list_item) >= max_length: \n",
    "            max_length = len(list_item)\n",
    "            result_list.append(list_item)\n",
    "    return result_list\n",
    "\n",
    "print(tim_so(text))"
   ]
  },
  {
   "cell_type": "code",
   "execution_count": null,
   "id": "1105afeb",
   "metadata": {},
   "outputs": [],
   "source": []
  }
 ],
 "metadata": {
  "kernelspec": {
   "display_name": "Python 3 (ipykernel)",
   "language": "python",
   "name": "python3"
  },
  "language_info": {
   "codemirror_mode": {
    "name": "ipython",
    "version": 3
   },
   "file_extension": ".py",
   "mimetype": "text/x-python",
   "name": "python",
   "nbconvert_exporter": "python",
   "pygments_lexer": "ipython3",
   "version": "3.9.12"
  }
 },
 "nbformat": 4,
 "nbformat_minor": 5
}
