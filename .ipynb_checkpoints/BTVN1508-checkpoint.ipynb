{
 "cells": [
  {
   "cell_type": "code",
   "execution_count": 76,
   "id": "baa2b8b5",
   "metadata": {},
   "outputs": [
    {
     "name": "stdout",
     "output_type": "stream",
     "text": [
      "Có 2 chuỗi giảm dần dài nhất là: ['95431', '74310']\n"
     ]
    }
   ],
   "source": [
    "# text = input('Nhập chuỗi số:')\n",
    "text = '095431334247431035'\n",
    "# text = '0123456789'\n",
    "def tim_so(txt):\n",
    "    '''\n",
    "    Hàm tìm chuỗi số giảm dần dài nhất\n",
    "    Parameter: \n",
    "        txt(string): Chuỗi số cần tìm\n",
    "    Return: \n",
    "        result(list): Các chuỗi số giảm dần tìm được dài nhất\n",
    "        None: Không tìm thấy chuỗi số giảm dần\n",
    "    '''\n",
    "    result_string = ''\n",
    "    i = 0\n",
    "    while i < len(text):\n",
    "        result_string += text[i]\n",
    "        if i < len(text)-1:\n",
    "            if int(text[i+1]) >= int(text[i]): result_string += ' '\n",
    "        i+=1\n",
    "    all_result = result_string.split()\n",
    "    sorted_result = sorted(all_result, key=len, reverse=True)\n",
    "    result_list = []\n",
    "    max_length = len(sorted_result[0])\n",
    "    if max_length == 1:\n",
    "        return None\n",
    "    else:\n",
    "        for sorted_item in sorted_result:\n",
    "            if len(sorted_item) == max_length: result_list.append(sorted_item)\n",
    "        return result_list\n",
    "\n",
    "\n",
    "ketqua = tim_so(text)\n",
    "if ketqua == None:\n",
    "    print('Không tìm thấy chuỗi giảm dần')\n",
    "else:\n",
    "    print(f'Có {len(ketqua)} chuỗi giảm dần dài nhất là:', ketqua)"
   ]
  },
  {
   "cell_type": "code",
   "execution_count": null,
   "id": "1bb023fa",
   "metadata": {},
   "outputs": [],
   "source": []
  }
 ],
 "metadata": {
  "kernelspec": {
   "display_name": "Python 3 (ipykernel)",
   "language": "python",
   "name": "python3"
  },
  "language_info": {
   "codemirror_mode": {
    "name": "ipython",
    "version": 3
   },
   "file_extension": ".py",
   "mimetype": "text/x-python",
   "name": "python",
   "nbconvert_exporter": "python",
   "pygments_lexer": "ipython3",
   "version": "3.9.12"
  }
 },
 "nbformat": 4,
 "nbformat_minor": 5
}
