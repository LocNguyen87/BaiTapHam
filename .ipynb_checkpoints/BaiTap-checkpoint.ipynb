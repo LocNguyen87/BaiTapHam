{
 "cells": [
  {
   "cell_type": "code",
   "execution_count": 17,
   "id": "a394eecb",
   "metadata": {},
   "outputs": [
    {
     "name": "stdout",
     "output_type": "stream",
     "text": [
      "(3.0, 0.5)\n",
      "Phương trình có 2 nghiệm\n",
      "x1 = 3.0\n",
      "x2 = 0.5\n"
     ]
    }
   ],
   "source": [
    "import math\n",
    "def giaiPhuongTrinhBacHai(a,b,c):\n",
    "    \n",
    "    '''\n",
    "    Hàm giải phương trình bậc hai\n",
    "\n",
    "    Parameters:\n",
    "    a(int)\n",
    "    b(int)\n",
    "    c(int)\n",
    "\n",
    "    Return:\n",
    "    _x1(int)\n",
    "    _x2(int)\n",
    "    '''\n",
    "    _d = (b**2) - (4*a*c)\n",
    "    if _d < 0:\n",
    "        _x1 = _x2 = None\n",
    "    elif _d == 0:\n",
    "        _x1 = _x2 = -b / 2*a\n",
    "    else:\n",
    "        _x1 = (-b+math.sqrt(_d))/(2*a)\n",
    "        _x2 = (-b-math.sqrt(_d))/(2*a)\n",
    "    return _x1, _x2\n",
    "\n",
    "ketqua = giaiPhuongTrinhBacHai(2,-7,3)\n",
    "print(ketqua)\n",
    "print(f'Phương trình có {len(ketqua)} nghiệm')\n",
    "if len(ketqua) > 0: \n",
    "    print(f'x1 = {ketqua[0]}\\nx2 = {ketqua[1]}')"
   ]
  },
  {
   "cell_type": "code",
   "execution_count": null,
   "id": "82c7a227",
   "metadata": {},
   "outputs": [],
   "source": []
  }
 ],
 "metadata": {
  "kernelspec": {
   "display_name": "Python 3 (ipykernel)",
   "language": "python",
   "name": "python3"
  },
  "language_info": {
   "codemirror_mode": {
    "name": "ipython",
    "version": 3
   },
   "file_extension": ".py",
   "mimetype": "text/x-python",
   "name": "python",
   "nbconvert_exporter": "python",
   "pygments_lexer": "ipython3",
   "version": "3.9.12"
  }
 },
 "nbformat": 4,
 "nbformat_minor": 5
}
