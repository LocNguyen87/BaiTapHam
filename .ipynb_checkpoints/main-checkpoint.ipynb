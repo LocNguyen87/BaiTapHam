{
 "cells": [
  {
   "cell_type": "code",
   "execution_count": 56,
   "id": "3078c0a4",
   "metadata": {},
   "outputs": [
    {
     "name": "stdout",
     "output_type": "stream",
     "text": [
      "Nhập họ tên: Nguyễn văn bình\n",
      "nguyen van binh\n"
     ]
    }
   ],
   "source": [
    "# Bài 1\n",
    "# Viết chương trình chuyển tiếng Việt có dấu sang tiếng Việt không có dấu. \n",
    "# Ví dụ: Nhập vào là \"Nguyễn văn bình\" thì kết quả là \"Nguyen van binh\".\n",
    "name = input('Nhập họ tên: ')\n",
    "sname = ''\n",
    "def standard_char(x):\n",
    "    a = ['à', 'á', 'ả', 'ã', 'ạ', 'ă', 'ắ', 'ằ', 'ẳ', 'ẵ', 'ặ', 'â', 'ấ', 'ầ', 'ậ', 'ẫ']\n",
    "    e = ['è', 'é', 'ẻ', 'ẽ', 'ẹ', 'ê', 'ế', 'ề', 'ể', 'ễ', 'ệ']\n",
    "    i = ['ì', 'í', 'ỉ', 'ĩ', 'ị']\n",
    "    y = ['ỳ', 'ý', 'ỷ', 'ỹ', 'ỵ']\n",
    "    o = ['ò', 'ó', 'ỏ', 'õ', 'ọ', 'ô', 'ố', 'ồ', 'ổ', 'ỗ', 'ộ', 'ơ', 'ớ', 'ờ', 'ở', 'ỡ', 'ợ']\n",
    "    u = ['ù', 'ú', 'ủ', 'ũ', 'ụ']\n",
    "    sx = ''\n",
    "    if x in a: sx = 'a'\n",
    "    elif x in e: sx = 'e'\n",
    "    elif x in i: sx = 'i'\n",
    "    elif x in y: sx = 'y'\n",
    "    elif x in o: sx = 'o'\n",
    "    elif x in u: sx = 'u'\n",
    "    else: sx = x\n",
    "    return sx\n",
    "name = name.lower()\n",
    "for i in name: sname += standard_char(i)\n",
    "print(sname)"
   ]
  },
  {
   "cell_type": "code",
   "execution_count": 105,
   "id": "75e52f99",
   "metadata": {
    "scrolled": true
   },
   "outputs": [
    {
     "name": "stdout",
     "output_type": "stream",
     "text": [
      "Nhập số tháng: 7\n",
      "Nhập số năm: 2022\n",
      "456 0123456 0123456 0123456 0123456 \n",
      "Tháng 7 năm 2022 có 31 ngày, có 4 tuần chẵn và 1 tuần lẻ\n"
     ]
    }
   ],
   "source": [
    "# Bài 2: Trong các công ty sản xuất, \n",
    "# thời gian trong tháng được chia làm các tuần. \n",
    "# Một tuần đầy đủ (gọi là tuần chẵn) được tính từ thứ 2 đến chủ nhật (có đầy đủ các ngày), \n",
    "# còn tuần lẻ là các tuần không đủ 7 ngày. \n",
    "# Nhập vào tháng và năm, tính số tuần (bao gồm chẵn và lẻ) trong tháng đó.\n",
    "import calendar\n",
    "import datetime\n",
    "\n",
    "thang = int(input('Nhập số tháng: '))\n",
    "nam = int(input('Nhập số năm: '))\n",
    "\n",
    "if thang <= 0 or thang > 13 or nam <= 0:\n",
    "    print(f'Lỗi nhập dữ liệu {thang} - {nam}')\n",
    "else:\n",
    "    songay = calendar.monthrange(nam, thang)[1]\n",
    "    t = ''\n",
    "    for i in range(1, songay+1, 1):\n",
    "        wd = datetime.datetime(nam, thang, i).weekday()\n",
    "        if wd != 6:\n",
    "            t += str(wd)\n",
    "        else:\n",
    "            t += str(wd) + ' '\n",
    "    print(t)\n",
    "    weeks = t.strip().split()\n",
    "    tuan_chan = []\n",
    "    tuan_le = []\n",
    "    for week in weeks:\n",
    "        if week == '0123456':\n",
    "            tuan_chan.append(week)\n",
    "        else:\n",
    "            tuan_le.append(week)\n",
    "    print(f'Tháng {thang} năm {nam} có {songay} ngày, có {len(tuan_chan)} tuần chẵn và {len(tuan_le)} tuần lẻ')\n",
    "    \n"
   ]
  },
  {
   "cell_type": "code",
   "execution_count": null,
   "id": "a42e8380",
   "metadata": {},
   "outputs": [],
   "source": []
  },
  {
   "cell_type": "code",
   "execution_count": null,
   "id": "648a2bfb",
   "metadata": {},
   "outputs": [],
   "source": []
  }
 ],
 "metadata": {
  "kernelspec": {
   "display_name": "Python 3 (ipykernel)",
   "language": "python",
   "name": "python3"
  },
  "language_info": {
   "codemirror_mode": {
    "name": "ipython",
    "version": 3
   },
   "file_extension": ".py",
   "mimetype": "text/x-python",
   "name": "python",
   "nbconvert_exporter": "python",
   "pygments_lexer": "ipython3",
   "version": "3.9.12"
  }
 },
 "nbformat": 4,
 "nbformat_minor": 5
}
